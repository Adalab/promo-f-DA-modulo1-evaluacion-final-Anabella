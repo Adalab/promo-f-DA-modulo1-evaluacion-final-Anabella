{
 "cells": [
  {
   "cell_type": "code",
   "execution_count": 36,
   "metadata": {},
   "outputs": [],
   "source": [
    "class TiendaOnline:\n",
    "    def __init__(self, nombre_tienda): #constructor donde inicilizamos las variables\n",
    "        self.nombre_tienda = nombre_tienda\n",
    "        self.inventario_productos = []\n",
    "        self.clientes = {}\n",
    "        self.ventas_totales =0\n",
    "\n",
    "    def agregar_producto(self, nombre, precio, cantidad):\n",
    "        #recorremos el la lista de diccionario con el buce for\n",
    "        for producto in self.inventario_productos:\n",
    "            #si el nombre ingresado coincide actualizamos la cantidad accediendo a la clave \"cantidad\"\n",
    "            if producto['nombre'] == nombre:\n",
    "                #Agregamos cantidad al producto\n",
    "                producto['cantidad'] += cantidad\n",
    "                return \n",
    "        #En cas contrario apendeamos con el metodo de listas el diccionario completo.   \n",
    "        self.inventario_productos.append({'nombre': nombre,'precio': precio,'cantidad': cantidad})\n",
    "        return self.inventario_productos\n",
    "    \n",
    "    def ver_inventario(self):\n",
    "        #Recorremos el inventario\n",
    "        for valor in self.inventario_productos:\n",
    "            #imprimimos la información\n",
    "            print(f'Nombre:', valor['nombre'], 'Precio:', valor['precio'], 'Cantidad:', valor['cantidad'])\n",
    "\n",
    "    def buscar_producto(self,nombre):\n",
    "        #recorremos con el bucle for el diccionario  accediendo a la clave a traves del nombre\n",
    "        for productos in self.inventario_productos:\n",
    "            #Si el parámetro que pasamos coincide, imprime la información\n",
    "            if productos['nombre'] == nombre: \n",
    "               print(f'Nombre:', productos['nombre'], 'Precio:', productos['precio'], 'Cantidad:', productos['cantidad'])\n",
    "\n",
    "    \n",
    "    def actualizar_stock(self,nombre, cantidad):\n",
    "        #recorremos con un for el inventario\n",
    "        for stock in self.inventario_productos:\n",
    "            #cuando el elemento que recorre accede a la clave y compara con el nombre ingresado\n",
    "            if stock['nombre'] == nombre:\n",
    "                stock['cantidad'] += cantidad #restamos o sumamos cantidad segun se pase un número positivo o negativo\n",
    "                #Devolvemos un mensaje confirmando la operación\n",
    "                return f'Se ha actualizado el producto {nombre} con éxito'\n",
    "\n",
    "    \n",
    "        print(\"El producto que busca no se encuenta en stock\")\n",
    "\n",
    "    def eliminar_producto(self,nombre):\n",
    "        #con un bucle for recorremos inventario\n",
    "        for clave in self.inventario_productos:\n",
    "            #comparamos el nombre ingresado con el valor de la clave\n",
    "            if clave['nombre']==nombre:\n",
    "                #eliminamos el producto del inventario con remove. Metodo que pertenece a listas y borra la primer coincidencia.\n",
    "                #recordar el metodo del\n",
    "                self.inventario_productos.remove(clave)\n",
    "                return f'Producto {nombre} eliminado exitosamente'\n",
    "            \n",
    "        else:\n",
    "            print(f'El producto {nombre} no esta en el inventario')\n",
    "\n",
    "    \n",
    "    def calcula_valor_inventario(self):\n",
    "        valor_total=0 #Inicializo una variable donde acumulo la suma\n",
    "        for valor in self.inventario_productos: #itero sobre el inventario\n",
    "            #Agrego valores al valor_total por cada iteracion me hará la suma accediendo a cada clave (cantidad,valor)\n",
    "            valor_total += valor['cantidad']* valor['precio']\n",
    "        return valor_total #retorno valor\n",
    "    \n",
    "    \n",
    "    def agrega_cliente(self,id_clientes, nombre, email):\n",
    "        #metodo para agregar valores a esa key de diccionario. Para mi es mas Es mas legible cuando la key esta separada de los valores\n",
    "        self.clientes[id_clientes]= {'Nombre': nombre, 'Email': email}\n",
    "\n",
    "        print(f'Cliente {nombre} agregado con éxito')\n",
    "        return self.clientes\n",
    "    \n",
    "    def ver_cliente(self):\n",
    "        #Iteramos por el diccionario de clientes \n",
    "        for cliente, valores in self.clientes.items():\n",
    "            #Imprimimos sus valores\n",
    "            print(f'Cliente: {valores[\"Nombre\"]}, Email: {valores[\"Email\"]}')\n",
    "            \n",
    "\n",
    "    \n",
    "    def procesar_pago (self):\n",
    "    \n",
    "        procesar_pago= True\n",
    "        #Inicializamos la variable pago\n",
    "        pago= 0 \n",
    "        while procesar_pago:  #Es lo mismo que decir while True. Bucle infinito si el usuario no pone las cantidades correctamente\n",
    "            #Preguntamos al cliente la cantidad a pagar y con cuanto pagará\n",
    "            cant_total= float(input('Ingrese la cantidad total a pagar: '))\n",
    "            cant_pago= float(input('Ingrese con cuanto va a abonar: '))\n",
    "            #Utilizamos el condicional para saber si la can.pago es mayor al onto a pagar\n",
    "            if cant_pago > cant_total: \n",
    "                pago = cant_pago - cant_total\n",
    "                print('Pago hecho con éxito.Gracias por su compra')\n",
    "                return f' Su cambio es de: {pago} euros' #se corta el bucle con el return. Otra opcion es usar el break\n",
    "            #En caso de que el usuario no ponga el dinero suficiente se le pide que vuelva a ingresar los montos\n",
    "            else:\n",
    "                print(\"El pago no es suficiente.Inténtelo de nuevo\")\n",
    "\n",
    "    def ver_compra_clientes(self,nombre_cliente):\n",
    "        #recorremos el diccionario de clientes con un for las key y el diciconario con keys y valores\n",
    "        for id_cliente, info_clientes in self.clientes.items():  \n",
    "                #Comparamos si el cliente ingresado es igual a uno de los clientes del diccionario clientes\n",
    "                if nombre_cliente == info_clientes['Nombre']:\n",
    "                #imprimimos su informacion de la lista de compras accediendo a los valores a traves de su clave.\n",
    "                 print(f'La lista de compras del cliente {nombre_cliente} es: {info_clientes[\"compras\"]}')\n",
    "                 #No funciona en la clase porque no tengo agregada una lista de compras en los clientes. Esta funcion se demuestra fuera de la clase\n",
    "\n",
    "\n",
    "\n",
    "       \n",
    "            "
   ]
  },
  {
   "cell_type": "code",
   "execution_count": 37,
   "metadata": {},
   "outputs": [],
   "source": [
    "la_tienda = TiendaOnline(\"Mi Tienda\")\n"
   ]
  },
  {
   "cell_type": "code",
   "execution_count": 38,
   "metadata": {},
   "outputs": [
    {
     "name": "stdout",
     "output_type": "stream",
     "text": [
      "[{'nombre': 'Ordenadores', 'precio': 1000, 'cantidad': 10}, {'nombre': 'Telefonos', 'precio': 500, 'cantidad': 5}, {'nombre': 'Escritorios', 'precio': 250, 'cantidad': 3}, {'nombre': 'Ventiladores', 'precio': 100, 'cantidad': 10}, {'nombre': 'Sofa', 'precio': 300, 'cantidad': 4}]\n"
     ]
    }
   ],
   "source": [
    "inventario= la_tienda.agregar_producto('Ordenadores', 1000 , 10)\n",
    "inventario= la_tienda.agregar_producto('Telefonos', 500, 5)\n",
    "inventario= la_tienda.agregar_producto('Escritorios',250 , 3)\n",
    "inventario= la_tienda.agregar_producto('Ventiladores',100 , 10)\n",
    "inventario= la_tienda.agregar_producto('Sofa',300 , 4)\n",
    "print(inventario)"
   ]
  },
  {
   "cell_type": "code",
   "execution_count": 39,
   "metadata": {},
   "outputs": [
    {
     "name": "stdout",
     "output_type": "stream",
     "text": [
      "Nombre: Ordenadores Precio: 1000 Cantidad: 10\n",
      "Nombre: Telefonos Precio: 500 Cantidad: 5\n",
      "Nombre: Escritorios Precio: 250 Cantidad: 3\n",
      "Nombre: Ventiladores Precio: 100 Cantidad: 10\n",
      "Nombre: Sofa Precio: 300 Cantidad: 4\n"
     ]
    }
   ],
   "source": [
    "la_tienda.ver_inventario()"
   ]
  },
  {
   "cell_type": "code",
   "execution_count": 40,
   "metadata": {},
   "outputs": [
    {
     "name": "stdout",
     "output_type": "stream",
     "text": [
      "Nombre: Ordenadores Precio: 1000 Cantidad: 10\n"
     ]
    }
   ],
   "source": [
    "la_tienda.buscar_producto('Ordenadores')\n"
   ]
  },
  {
   "cell_type": "code",
   "execution_count": 41,
   "metadata": {},
   "outputs": [
    {
     "name": "stdout",
     "output_type": "stream",
     "text": [
      "[{'nombre': 'Ordenadores', 'precio': 1000, 'cantidad': 10}, {'nombre': 'Telefonos', 'precio': 500, 'cantidad': 5}, {'nombre': 'Escritorios', 'precio': 250, 'cantidad': 3}, {'nombre': 'Ventiladores', 'precio': 100, 'cantidad': 10}, {'nombre': 'Sofa', 'precio': 300, 'cantidad': 4}]\n"
     ]
    }
   ],
   "source": [
    "#la_tienda.actualizar_stock('Telefonos',-1)\n",
    "print(inventario)"
   ]
  },
  {
   "cell_type": "code",
   "execution_count": 42,
   "metadata": {},
   "outputs": [
    {
     "name": "stdout",
     "output_type": "stream",
     "text": [
      "[{'nombre': 'Ordenadores', 'precio': 1000, 'cantidad': 10}, {'nombre': 'Telefonos', 'precio': 500, 'cantidad': 5}, {'nombre': 'Escritorios', 'precio': 250, 'cantidad': 3}, {'nombre': 'Ventiladores', 'precio': 100, 'cantidad': 10}, {'nombre': 'Sofa', 'precio': 300, 'cantidad': 4}]\n"
     ]
    }
   ],
   "source": [
    "#la_tienda.eliminar_producto('Escritorios')\n",
    "print(inventario)"
   ]
  },
  {
   "cell_type": "code",
   "execution_count": 43,
   "metadata": {},
   "outputs": [
    {
     "data": {
      "text/plain": [
       "15450"
      ]
     },
     "execution_count": 43,
     "metadata": {},
     "output_type": "execute_result"
    }
   ],
   "source": [
    "la_tienda.calcula_valor_inventario()"
   ]
  },
  {
   "cell_type": "code",
   "execution_count": 44,
   "metadata": {},
   "outputs": [
    {
     "name": "stdout",
     "output_type": "stream",
     "text": [
      "Cliente Ana agregado con éxito\n",
      "Cliente Pol agregado con éxito\n",
      "Cliente Susana agregado con éxito\n",
      "Cliente Neus agregado con éxito\n",
      "Cliente Joanna agregado con éxito\n",
      "Cliente Nicolas agregado con éxito\n",
      "{'Cliente_1': {'Nombre': 'Ana', 'Email': 'ana@gmail.com'}, 'Cliente_2': {'Nombre': 'Pol', 'Email': 'pol@gmail.com'}, 'Cliente_3': {'Nombre': 'Susana', 'Email': 'su_sana@gmail.com'}, 'Cliente_4': {'Nombre': 'Neus', 'Email': 'neus98@gmail.com'}, 'Cliente_5': {'Nombre': 'Joanna', 'Email': 'joana@gmail.com'}, 'Cliente_6': {'Nombre': 'Nicolas', 'Email': 'nico_5@gmail.com'}}\n"
     ]
    }
   ],
   "source": [
    "clientes_diccionario= la_tienda.agrega_cliente('Cliente_1','Ana', 'ana@gmail.com')\n",
    "clientes_diccionario = la_tienda.agrega_cliente(\"Cliente_2\",\"Pol\", \"pol@gmail.com\")\n",
    "clientes_diccionario= la_tienda.agrega_cliente('Cliente_3','Susana','su_sana@gmail.com')\n",
    "clientes_diccionario = la_tienda.agrega_cliente(\"Cliente_4\",\"Neus\", \"neus98@gmail.com\")\n",
    "clientes_diccionario= la_tienda.agrega_cliente('Cliente_5','Joanna', 'joana@gmail.com')\n",
    "clientes_diccionario = la_tienda.agrega_cliente(\"Cliente_6\",\"Nicolas\", \"nico_5@gmail.com\")\n",
    "\n",
    "print(clientes_diccionario)"
   ]
  },
  {
   "cell_type": "code",
   "execution_count": 45,
   "metadata": {},
   "outputs": [
    {
     "name": "stdout",
     "output_type": "stream",
     "text": [
      "Cliente: Ana, Email: ana@gmail.com\n",
      "Cliente: Pol, Email: pol@gmail.com\n",
      "Cliente: Susana, Email: su_sana@gmail.com\n",
      "Cliente: Neus, Email: neus98@gmail.com\n",
      "Cliente: Joanna, Email: joana@gmail.com\n",
      "Cliente: Nicolas, Email: nico_5@gmail.com\n"
     ]
    }
   ],
   "source": [
    "la_tienda.ver_cliente()"
   ]
  },
  {
   "cell_type": "code",
   "execution_count": 46,
   "metadata": {},
   "outputs": [],
   "source": [
    "#la_tienda.procesar_pago()"
   ]
  },
  {
   "cell_type": "code",
   "execution_count": 47,
   "metadata": {},
   "outputs": [],
   "source": [
    "#la_tienda.ver_compra_clientes('Pol')"
   ]
  },
  {
   "cell_type": "code",
   "execution_count": 48,
   "metadata": {},
   "outputs": [
    {
     "name": "stdout",
     "output_type": "stream",
     "text": [
      "Nombre: Ordenadores, Precio: 1000, Cantidad: 10\n"
     ]
    },
    {
     "data": {
      "text/plain": [
       "[{'nombre': 'Ordenadores', 'precio': 1000, 'cantidad': 10}]"
      ]
     },
     "execution_count": 48,
     "metadata": {},
     "output_type": "execute_result"
    }
   ],
   "source": [
    "\n",
    "#Trabajé sobre un inventario muestra y probé dos formas de busqueda.\n",
    "#No me funciona ninfguna de las dos y no encuntro el error.Ambos me devuelven la primer coinicdencia \n",
    "\n",
    "inventario_muestra= [{'nombre': 'Ordenadores', 'precio': 1000, 'cantidad': 10}, \n",
    "                     {'nombre': 'Telefonos', 'precio': 500, 'cantidad': 5}, \n",
    "                     {'nombre': 'Escritorios', 'precio': 250, 'cantidad': 3}]\n",
    "\n",
    "import re\n",
    "def prod_regex(patron):\n",
    "  #creamos lista vacía donde apendearemos los resultados encontrados\n",
    "  lista_productos= []\n",
    "  #recorremos el inventario\n",
    "  for producto in inventario_muestra:\n",
    "    #verificamos si el patron coincide con algun elemento del inventario\n",
    "    #Método que devulev un objeto con la promera coincidencia \n",
    "    if re.search(patron, producto['nombre']):\n",
    "      #apendeamos el resultado en la lista\n",
    "      lista_productos.append(producto)\n",
    "      #recorremos la lista de productos para imprimir detalles\n",
    "      for producto in lista_productos:\n",
    "        #Me imprime la info del producto\n",
    "        print(f\"Nombre: {producto['nombre']}, Precio: {producto['precio']}, Cantidad: {producto['cantidad']}\")\n",
    "        return lista_productos #Me devuelve la lista. Si no lo pongo me devuelve todo el inventario en bucle.\n",
    "      \n",
    "prod_regex('[a-z]')"
   ]
  },
  {
   "cell_type": "code",
   "execution_count": null,
   "metadata": {},
   "outputs": [],
   "source": []
  },
  {
   "cell_type": "code",
   "execution_count": 49,
   "metadata": {},
   "outputs": [
    {
     "data": {
      "text/plain": [
       "[{'nombre': 'Ordenadores', 'precio': 1000, 'cantidad': 10}]"
      ]
     },
     "execution_count": 49,
     "metadata": {},
     "output_type": "execute_result"
    }
   ],
   "source": [
    "import re\n",
    "def prod_regex(patron):\n",
    "    \n",
    "    lista_regex= [] #sin apendear en la lista me devuelve una lista con las letras de la primer coincidencia\n",
    "    for producto in inventario_muestra:\n",
    "      if re.findall(patron, producto['nombre']): #Devuelve una lista con las coincidencias\n",
    "          lista_regex.append(producto) \n",
    "          return lista_regex\n",
    "    for busqueda in lista_regex:\n",
    "       print(\"Nombre del producto: \",busqueda[\"nombre\"], \"Precio: $\", busqueda[\"precio\"])\n",
    "       return lista_regex\n",
    "prod_regex('[a-z]')"
   ]
  },
  {
   "cell_type": "code",
   "execution_count": 50,
   "metadata": {},
   "outputs": [
    {
     "name": "stdout",
     "output_type": "stream",
     "text": [
      "Los productos del carrito son: Nombre: Telefonos, Precio: 500, Cantidad: 2\n",
      "Los productos del carrito son: Nombre: Ordenadores, Precio: 1000, Cantidad: 2\n"
     ]
    },
    {
     "data": {
      "text/plain": [
       "'El total a pagar es de: 2000'"
      ]
     },
     "execution_count": 50,
     "metadata": {},
     "output_type": "execute_result"
    }
   ],
   "source": [
    "def realiza_compra(objeto, cantidad):\n",
    "    #Carrito donde apendeamos los articulos comprados\n",
    "    carrito=[]\n",
    "    total=0\n",
    "    #iteramos por el inventario para encontrar el producto seleecionado\n",
    "    for producto in inventario_muestra:\n",
    "        #Si el producto esta en el inventario y hay stock\n",
    "        if producto['nombre'] == objeto and cantidad >=0:\n",
    "             #Agregamos al carrito la informacion del producto con su cantidad\n",
    "             carrito.append(producto)\n",
    "             #restamos la cantidad comprada en el stock. \n",
    "             producto['cantidad'] -= cantidad\n",
    "             #Imprimimos carrito\n",
    "             print(f'Los productos del carrito son: Nombre: {producto[\"nombre\"]}, Precio: {producto[\"precio\"]}, Cantidad: {cantidad}')\n",
    "        \n",
    "    #Iteramos carrito para calcular el valor\n",
    "    for elemento in carrito:\n",
    "       #A la variable total le asignamos el producto entre el precio y la cantidad\n",
    "       #No consigo que me itere en todo el carrito. No encuentro el error!!\n",
    "       total +=  elemento['precio'] * cantidad\n",
    "       #nos devuelve el total\n",
    "       return f'El total a pagar es de: {total}'\n",
    "    \n",
    "    else:\n",
    "       #Si el producto no esta en el inventario imprimimos mensaje\n",
    "       print(f'El producto seleccionado no se encuentra en el inventario')\n",
    "\n",
    "realiza_compra('Telefonos', 2)\n",
    "realiza_compra('Ordenadores', 2)\n"
   ]
  },
  {
   "cell_type": "code",
   "execution_count": 51,
   "metadata": {},
   "outputs": [
    {
     "data": {
      "text/plain": [
       "{'Cliente_1': {'Nombre': 'Ana',\n",
       "  'Email': 'ana@gmail.com',\n",
       "  'compras': ['televisores', 'ordenadores']},\n",
       " 'Cliente_2': {'Nombre': 'Pol',\n",
       "  'Email': 'pol@gmail.com',\n",
       "  'compras': ['televisores', 'sillas']},\n",
       " 'Cliente_3': {'Nombre': 'Susana',\n",
       "  'Email': 'su_sana@gmail.com',\n",
       "  'compras': ['telefonos', 'ordenadores']},\n",
       " 'Cliente_4': {'Nombre': 'Neus',\n",
       "  'Email': 'neus98@gmail.com',\n",
       "  'compras': ['mesas', 'cables']},\n",
       " 'Cliente_5': {'Nombre': 'Joanna',\n",
       "  'Email': 'joana@gmail.com',\n",
       "  'compras': ['televisores', 'ordenadores']},\n",
       " 'Cliente_6': {'Nombre': 'Nicolas',\n",
       "  'Email': 'nico_5@gmail.com',\n",
       "  'compras': ['Plantas', 'ordenadores']}}"
      ]
     },
     "execution_count": 51,
     "metadata": {},
     "output_type": "execute_result"
    }
   ],
   "source": [
    "clientes_dicc= {'Cliente_1': {'Nombre': 'Ana', 'Email': 'ana@gmail.com', 'compras':['televisores', 'ordenadores']}, 'Cliente_2': {'Nombre': 'Pol', 'Email': 'pol@gmail.com','compras':['televisores', 'sillas']}, 'Cliente_3': {'Nombre': 'Susana', 'Email': 'su_sana@gmail.com','compras':['telefonos', 'ordenadores']}, 'Cliente_4': {'Nombre': 'Neus', 'Email': 'neus98@gmail.com','compras':['mesas', 'cables']}, 'Cliente_5': {'Nombre': 'Joanna', 'Email': 'joana@gmail.com','compras':['televisores', 'ordenadores']}, 'Cliente_6': {'Nombre': 'Nicolas', 'Email': 'nico_5@gmail.com','compras':['Plantas', 'ordenadores']}}\n",
    "\n",
    "clientes_dicc"
   ]
  },
  {
   "cell_type": "code",
   "execution_count": 52,
   "metadata": {},
   "outputs": [
    {
     "name": "stdout",
     "output_type": "stream",
     "text": [
      "La lista de compras del cliente Ana es: ['televisores', 'ordenadores']\n",
      "La lista de compras del cliente Nicolas es: ['Plantas', 'ordenadores']\n",
      "La lista de compras del cliente Susana es: ['telefonos', 'ordenadores']\n",
      "La lista de compras del cliente Neus es: ['mesas', 'cables']\n"
     ]
    }
   ],
   "source": [
    "def ver_compra_clientes(nombre_cliente):\n",
    "   #recorremos el diccionario de clientes con un for las key y el diciconario con keys y valores\n",
    "   for id_cliente, info_clientes in clientes_dicc.items():  \n",
    "        #Comparamos si el cliente ingresado es igual a uno de los clientes del diccionario clientes\n",
    "        if nombre_cliente == info_clientes['Nombre']:\n",
    "         #imprimimos su informacion de la lista de compras accediendo a los valores a traves de su clave.\n",
    "          print(f'La lista de compras del cliente {nombre_cliente} es: {info_clientes[\"compras\"]}')\n",
    "\n",
    "#llamamos a la funcion\n",
    "ver_compra_clientes('Ana')\n",
    "ver_compra_clientes('Nicolas')\n",
    "ver_compra_clientes('Susana')\n",
    "ver_compra_clientes('Neus')"
   ]
  }
 ],
 "metadata": {
  "kernelspec": {
   "display_name": "base",
   "language": "python",
   "name": "python3"
  },
  "language_info": {
   "codemirror_mode": {
    "name": "ipython",
    "version": 3
   },
   "file_extension": ".py",
   "mimetype": "text/x-python",
   "name": "python",
   "nbconvert_exporter": "python",
   "pygments_lexer": "ipython3",
   "version": "3.9.7"
  },
  "orig_nbformat": 4
 },
 "nbformat": 4,
 "nbformat_minor": 2
}
